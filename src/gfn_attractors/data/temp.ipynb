{
 "cells": [
  {
   "cell_type": "code",
   "execution_count": 40,
   "metadata": {},
   "outputs": [],
   "source": [
    "import os\n",
    "import pandas as pd\n",
    "import numpy as np\n",
    "from pathlib import Path\n",
    "import git\n",
    "\n",
    "import torch\n",
    "import torch.nn.functional as F\n",
    "from torchvision import transforms\n",
    "from torch.utils.data import random_split\n",
    "import einops\n",
    "\n",
    "from torch.utils.data import RandomSampler, WeightedRandomSampler, DataLoader\n",
    "from torchdata.datapipes.map import SequenceWrapper\n",
    "\n",
    "from gfn_attractors.misc import image_utils as iu\n",
    "from image_datamodule import ImageDataModule"
   ]
  },
  {
   "cell_type": "code",
   "execution_count": 145,
   "metadata": {},
   "outputs": [],
   "source": [
    "class ContinuousDSpritesDataModule(ImageDataModule):\n",
    "\n",
    "    RAW_DATA_PATH = os.path.join(git.Repo('.', search_parent_directories=True).working_tree_dir, \n",
    "                                 'data/raw/dsprites_ndarray_co1sh3sc6or40x32y32_64x64.npz')\n",
    "\n",
    "    COLORS = np.array([\n",
    "        (1, 1, 1), # white\n",
    "        (1, 0, 0), # red\n",
    "        (0, 1, 0), # green\n",
    "        (0, 0, 1), # blue\n",
    "        (1, 1, 0), # yellow\n",
    "        (1, 0, 1), # magenta\n",
    "        (0, 1, 1), # cyan\n",
    "    ])\n",
    "\n",
    "    COLOR_NAMES = np.array([\n",
    "        'white',\n",
    "        'red',\n",
    "        'green',\n",
    "        'blue',\n",
    "        'yellow',\n",
    "        'magenta',\n",
    "        'cyan',\n",
    "    ])\n",
    "\n",
    "    LABEL_SENTENCE_FEATURES = ['color', 'obj_shape', 'scale', 'x', 'y']\n",
    "    POSITION_WEIGHTS = np.array([2, 3, 4, 5, 4, 3, 2, 1, \n",
    "                                 2, 3, 4, 5, 4, 3, 2, 1, \n",
    "                                 2, 3, 4, 5, 4, 3, 2, 1, \n",
    "                                 2, 3, 4, 5, 4, 3, 2])\n",
    "    rgb = np.array([[1, 0, 0],\n",
    "                    [0, 1, 0],\n",
    "                    [0, 0, 1],\n",
    "                    [1, 1, 0],\n",
    "                    [1, 0, 1],\n",
    "                    [0, 1, 1],\n",
    "                    [1, 1, 1]], dtype=float)\n",
    "\n",
    "    def __init__(self, \n",
    "                 size=64,\n",
    "                 constant_orientation=True,\n",
    "                 min_scale=0,\n",
    "                 f_validation=.1,\n",
    "                 holdout_xy_mode=False,\n",
    "                 holdout_xy_nonmode=False,\n",
    "                 holdout_xy_shape=False,\n",
    "                 holdout_xy_mode_color=False,\n",
    "                 holdout_shape_color=False,\n",
    "                 **kwargs):\n",
    "        \"\"\"\n",
    "        num_pos_tokens: if not None, label sentences are included in the dataloaders\n",
    "        holdout_xy_mode: if True, hold out all data in (1, 2) region\n",
    "        holdout_xy_nonmode: if True, hold out all data from a single position in (2, 1) region\n",
    "        holdout_xy_shape: if True, hold out all squares in (3, 0) region\n",
    "        holdout_xy_mode_color: if True, hold out all yellow objects in (0, 3) region\n",
    "        holdout_shape_color: if True, holdout all magenta ovals\n",
    "        \"\"\"\n",
    "        super().__init__(**kwargs)\n",
    "        self._size = size\n",
    "        self.constant_orientation = constant_orientation\n",
    "        self.min_scale = min_scale\n",
    "        self.f_validation = f_validation\n",
    "        self.holdout_xy_mode = holdout_xy_mode\n",
    "        self.holdout_xy_nonmode = holdout_xy_nonmode\n",
    "        self.holdout_xy_shape = holdout_xy_shape\n",
    "        self.holdout_xy_mode_color = holdout_xy_mode_color\n",
    "        self.holdout_shape_color = holdout_shape_color\n",
    "\n",
    "    @property\n",
    "    def num_channels(self):\n",
    "        return 3\n",
    "\n",
    "    @classmethod\n",
    "    def load_raw_data(cls, constant_orientation=True, min_scale=0, size=64):\n",
    "        with np.load(cls.RAW_DATA_PATH) as raw_data:\n",
    "            images = raw_data['imgs']\n",
    "            labels = raw_data['latents_classes']\n",
    "            latents = raw_data['latents_values']\n",
    "\n",
    "        if constant_orientation:\n",
    "            keep = labels[:, 3] == 0\n",
    "        if min_scale > 0:\n",
    "            keep &= labels[:, 2] >= min_scale\n",
    "        \n",
    "        keep &= labels[:,-1] < 31\n",
    "        keep &= labels[:,-2] < 31\n",
    "        images = images[keep]\n",
    "        labels = labels[keep][:, [1, 2, 4, 5]]\n",
    "        latents = latents[keep][:, [1, 2, 4, 5]]\n",
    "\n",
    "        if size != 64:\n",
    "            images = transforms.Resize(size)(torch.tensor(images)).numpy()\n",
    "        return images, labels, latents\n",
    "    \n",
    "    def prepare_data(self):\n",
    "        self.images, self.labels, self.latents = self.load_raw_data(self.constant_orientation, self.min_scale, self._size)\n",
    "        self.split_dataset()\n",
    "        sample_weights = self.POSITION_WEIGHTS[self.labels[:,-2]] * self.POSITION_WEIGHTS[self.labels[:,-1]]\n",
    "        sample_weights[self.valid_indices] = 0\n",
    "        self.sample_weights = sample_weights / sample_weights.sum()\n",
    "\n",
    "    def split_dataset(self):\n",
    "        self.train_colors = torch.ones((len(self), 7), dtype=bool)\n",
    "        self.test_colors = torch.ones((len(self), 7), dtype=bool)\n",
    "\n",
    "        # Hold out all data in (1, 2) region\n",
    "        xy_mode_keep = self.labels[:,2] >= 8\n",
    "        xy_mode_keep &= self.labels[:,2] < 16\n",
    "        xy_mode_keep &= self.labels[:,3] >= 16\n",
    "        xy_mode_keep &= self.labels[:,3] < 24\n",
    "        self.test_xy_mode_indices = torch.arange(len(self))[xy_mode_keep]\n",
    "\n",
    "        # Hold out all data from a single position in (2, 1) region\n",
    "        xy_nonmode_keep = self.labels[:,2] == 21 \n",
    "        xy_nonmode_keep &= self.labels[:,3] == 9\n",
    "        self.test_xy_nonmode_indices = torch.arange(len(self))[xy_nonmode_keep]\n",
    "\n",
    "        # Hold out all squares in (3, 0) region\n",
    "        xy_shape_keep = self.labels[:,0] == 0\n",
    "        xy_shape_keep &= self.labels[:,2] >= 24\n",
    "        xy_shape_keep &= self.labels[:,3] < 8\n",
    "        self.test_xy_shape_indices = torch.arange(len(self))[xy_shape_keep]\n",
    "\n",
    "        # Hold out all yellow objects in (0, 3) region\n",
    "        # self.test_xy_mode_colors = torch.zeros((len(self), 7), dtype=bool)\n",
    "        if self.holdout_xy_mode_color:\n",
    "            xy_mode_keep = self.labels[:,2] < 8\n",
    "            xy_mode_keep &= self.labels[:,3] >= 24\n",
    "            self.test_xy_mode_color_indices = torch.arange(len(self))[xy_mode_keep]\n",
    "            self.train_colors[xy_mode_keep, 3] = 0\n",
    "            self.test_colors[xy_mode_keep] = 0\n",
    "\n",
    "        # Holdout all magenta ovals\n",
    "        if self.holdout_shape_color:\n",
    "            shape_color_keep = self.labels[:,0] == 1\n",
    "            self.test_shape_color_indices = torch.arange(len(self))[shape_color_keep]\n",
    "            self.train_colors[shape_color_keep, 4] = 0\n",
    "            self.test_colors[shape_color_keep] = 0\n",
    "\n",
    "        if self.holdout_xy_mode_color:\n",
    "            self.test_colors[xy_mode_keep, 3] = 1\n",
    "        if self.holdout_shape_color:\n",
    "            self.test_colors[shape_color_keep, 4] = 1\n",
    "\n",
    "        # Train and valid indices\n",
    "        train_keep = torch.ones(len(self), dtype=bool)\n",
    "        if self.holdout_xy_mode:\n",
    "            train_keep[self.test_xy_mode_indices] = 0\n",
    "        if self.holdout_xy_nonmode:\n",
    "            train_keep[self.test_xy_nonmode_indices] = 0\n",
    "        if self.holdout_xy_shape:\n",
    "            train_keep[self.test_xy_shape_indices] = 0\n",
    "\n",
    "        self.test_indices = torch.arange(len(self))[~train_keep]\n",
    "        nontest_indices = torch.arange(len(self))[train_keep]\n",
    "        generator = torch.Generator().manual_seed(self.seed)\n",
    "        train_indices, valid_indices = random_split(range(len(nontest_indices)), [1-self.f_validation, self.f_validation], generator=generator)\n",
    "        self.train_indices = torch.tensor(nontest_indices[train_indices.indices])\n",
    "        self.valid_indices = torch.tensor(nontest_indices[valid_indices.indices])\n",
    "        \n",
    "        \n",
    "    def create_batch(self, indices, test_set=False):\n",
    "        batch_images = self.images[indices]\n",
    "        batch_images = einops.repeat(batch_images, 'b x y -> b 3 x y')\n",
    "        batch_latents = self.latents[indices]\n",
    "        batch_labels = self.labels[indices]\n",
    "\n",
    "        color_indices = self.test_colors[indices] if test_set else self.train_colors[indices]\n",
    "        color_indices = torch.distributions.Categorical(color_indices.float()).sample()\n",
    "        color_modes = self.rgb[color_indices]\n",
    "        noise = torch.distributions.HalfNormal(.2).sample((len(batch_images), 3)).numpy()\n",
    "        colors = color_modes + noise * (-2*color_modes + 1)\n",
    "        batch_latents = np.concatenate([colors, batch_latents], axis=1)\n",
    "        batch_labels = np.concatenate([color_modes, batch_labels], axis=1)\n",
    "        colors = einops.repeat(colors, 'b c -> b c 1 1')\n",
    "        batch_images = batch_images * colors\n",
    "\n",
    "        return {'index': torch.tensor(indices), \n",
    "                'image': torch.tensor(batch_images).float(), \n",
    "                'label': torch.tensor(batch_labels).float(),\n",
    "                'latent': torch.tensor(batch_latents).float()}\n",
    "    \n",
    "    def train_dataloader(self, batch_size=None) -> DataLoader:\n",
    "        sampler = WeightedRandomSampler(self.sample_weights, len(self.sample_weights))\n",
    "        batch_size = self.batch_size if batch_size is None else batch_size\n",
    "        return DataLoader(self, batch_size=batch_size, sampler=sampler, collate_fn=lambda x: x, \n",
    "                          drop_last=True)\n",
    "    \n",
    "    def valid_dataloader(self, batch_size=None) -> DataLoader:\n",
    "        sampler = RandomSampler2(self.valid_indices, replacement=False)\n",
    "        batch_size = self.batch_size if batch_size is None else batch_size\n",
    "        return DataLoader(self, batch_size=batch_size, sampler=sampler, collate_fn=lambda x: x, drop_last=True)\n",
    "    \n",
    "    def __getitem__(self, index):\n",
    "        return {k: v[0] for k, v in self.__getitems__([index]).items()}\n",
    "\n",
    "    def __getitems__(self, indices):\n",
    "        if isinstance(indices, torch.Tensor):\n",
    "            indices = indices.tolist()\n",
    "        return self.create_batch(indices)\n",
    "        # batch_images, batch_latents = self.create_batch(indices)\n",
    "        # return {'index': torch.tensor(indices), 'image': batch_images, 'latent': batch_latents}"
   ]
  },
  {
   "cell_type": "code",
   "execution_count": 146,
   "metadata": {},
   "outputs": [
    {
     "name": "stderr",
     "output_type": "stream",
     "text": [
      "/home/ajhnam/anaconda3/envs/gfn-attractors/lib/python3.10/site-packages/torchvision/transforms/functional.py:1603: UserWarning: The default value of the antialias parameter of all the resizing transforms (Resize(), RandomResizedCrop(), etc.) will change from None to True in v0.17, in order to be consistent across the PIL and Tensor backends. To suppress this warning, directly pass antialias=True (recommended, future default), antialias=None (current default, which means False for Tensors and True for PIL), or antialias=False (only works on Tensors - PIL will still use antialiasing). This also applies if you are using the inference transforms from the models weights: update the call to weights.transforms(antialias=True).\n",
      "  warnings.warn(\n",
      "/tmp/ipykernel_344438/4216459168.py:157: UserWarning: To copy construct from a tensor, it is recommended to use sourceTensor.clone().detach() or sourceTensor.clone().detach().requires_grad_(True), rather than torch.tensor(sourceTensor).\n",
      "  self.train_indices = torch.tensor(nontest_indices[train_indices.indices])\n",
      "/tmp/ipykernel_344438/4216459168.py:158: UserWarning: To copy construct from a tensor, it is recommended to use sourceTensor.clone().detach() or sourceTensor.clone().detach().requires_grad_(True), rather than torch.tensor(sourceTensor).\n",
      "  self.valid_indices = torch.tensor(nontest_indices[valid_indices.indices])\n"
     ]
    }
   ],
   "source": [
    "data_module = ContinuousDSpritesDataModule(size=32,\n",
    "                                           holdout_xy_mode=True,\n",
    "                                           holdout_xy_nonmode=True,\n",
    "                                           holdout_xy_shape=True,\n",
    "                                           holdout_xy_mode_color=True,\n",
    "                                           holdout_shape_color=True)\n",
    "data_module.prepare_data()"
   ]
  },
  {
   "cell_type": "code",
   "execution_count": 158,
   "metadata": {},
   "outputs": [
    {
     "name": "stdout",
     "output_type": "stream",
     "text": [
      "torch.Size([128, 3, 32, 32])\n",
      "torch.Size([128, 7])\n",
      "torch.Size([128, 7])\n"
     ]
    }
   ],
   "source": [
    "dataloader = data_module.train_dataloader()\n",
    "for batch in dataloader:\n",
    "    print(batch['image'].shape)\n",
    "    print(batch['label'].shape)\n",
    "    print(batch['latent'].shape)\n",
    "    break"
   ]
  },
  {
   "cell_type": "code",
   "execution_count": null,
   "metadata": {},
   "outputs": [],
   "source": []
  },
  {
   "cell_type": "code",
   "execution_count": null,
   "metadata": {},
   "outputs": [],
   "source": []
  },
  {
   "cell_type": "code",
   "execution_count": 147,
   "metadata": {},
   "outputs": [
    {
     "name": "stderr",
     "output_type": "stream",
     "text": [
      "/tmp/ipykernel_344438/4216459168.py:186: UserWarning: To copy construct from a tensor, it is recommended to use sourceTensor.clone().detach() or sourceTensor.clone().detach().requires_grad_(True), rather than torch.tensor(sourceTensor).\n",
      "  return {'index': torch.tensor(indices),\n"
     ]
    },
    {
     "data": {
      "image/png": "[encoded data removed]",
      "text/plain": [
       "<PIL.Image.Image image mode=RGB size=389x259>"
      ]
     },
     "execution_count": 147,
     "metadata": {},
     "output_type": "execute_result"
    }
   ],
   "source": [
    "# indices = np.random.choice(len(data_module.test_xy_mode_indices), 24)\n",
    "indices = np.random.choice(len(data_module.train_indices), 24)\n",
    "indices = data_module.train_indices[indices]\n",
    "batch = data_module.create_batch(indices, test_set=False)\n",
    "images = batch['image']\n",
    "iu.compose_grid([data_module.render(images[i], size=64) for i in range(24)], rows=4)"
   ]
  },
  {
   "cell_type": "code",
   "execution_count": 157,
   "metadata": {},
   "outputs": [
    {
     "name": "stderr",
     "output_type": "stream",
     "text": [
      "/tmp/ipykernel_344438/4216459168.py:186: UserWarning: To copy construct from a tensor, it is recommended to use sourceTensor.clone().detach() or sourceTensor.clone().detach().requires_grad_(True), rather than torch.tensor(sourceTensor).\n",
      "  return {'index': torch.tensor(indices),\n"
     ]
    },
    {
     "data": {
      "image/png": "[encoded data removed]",
      "text/plain": [
       "<PIL.Image.Image image mode=RGB size=389x259>"
      ]
     },
     "execution_count": 157,
     "metadata": {},
     "output_type": "execute_result"
    }
   ],
   "source": [
    "# test_indices = data_module.test_xy_mode_indices\n",
    "# test_indices = data_module.test_xy_nonmode_indices\n",
    "# test_indices = data_module.test_xy_shape_indices\n",
    "# test_indices = data_module.test_xy_mode_color_indices\n",
    "# test_indices = data_module.test_shape_color_indices\n",
    "test_indices = data_module.test_indices\n",
    "indices = np.random.choice(len(test_indices), 24)\n",
    "indices = test_indices[indices]\n",
    "batch = data_module.create_batch(indices, test_set=True)\n",
    "images = batch['image']\n",
    "iu.compose_grid([data_module.render(images[i], size=64) for i in range(24)], rows=4)"
   ]
  },
  {
   "cell_type": "code",
   "execution_count": null,
   "metadata": {},
   "outputs": [],
   "source": []
  },
  {
   "cell_type": "code",
   "execution_count": 130,
   "metadata": {},
   "outputs": [
    {
     "data": {
      "text/plain": [
       "tensor([[ 1.,  1.,  1.,  2.,  3., 15., 23.],\n",
       "        [ 1.,  0.,  1.,  1.,  4., 15., 23.],\n",
       "        [ 1.,  0.,  1.,  1.,  2.,  8., 17.],\n",
       "        [ 1.,  0.,  1.,  1.,  4.,  9., 23.],\n",
       "        [ 1.,  0.,  1.,  1.,  1., 13., 17.],\n",
       "        [ 1.,  1.,  0.,  2.,  1., 14., 22.],\n",
       "        [ 1.,  0.,  1.,  2.,  5., 15., 16.],\n",
       "        [ 0.,  1.,  1.,  0.,  5.,  8., 16.],\n",
       "        [ 1.,  0.,  1.,  1.,  5., 10., 19.],\n",
       "        [ 1.,  0.,  1.,  1.,  2., 14., 21.],\n",
       "        [ 1.,  0.,  1.,  1.,  1., 10., 17.],\n",
       "        [ 1.,  0.,  1.,  1.,  2.,  8., 17.],\n",
       "        [ 0.,  1.,  0.,  0.,  1., 14., 18.],\n",
       "        [ 0.,  0.,  1.,  2.,  3., 10., 21.],\n",
       "        [ 1.,  1.,  0.,  0.,  0., 14., 19.],\n",
       "        [ 1.,  1.,  1.,  0.,  5., 14., 23.],\n",
       "        [ 0.,  1.,  0.,  0.,  4., 10., 16.],\n",
       "        [ 1.,  0.,  0.,  0.,  2.,  8., 21.],\n",
       "        [ 0.,  1.,  1.,  0.,  3., 15., 16.],\n",
       "        [ 1.,  1.,  1.,  0.,  3., 11., 22.],\n",
       "        [ 0.,  1.,  0.,  0.,  4.,  9., 23.],\n",
       "        [ 1.,  0.,  1.,  1.,  1., 14., 23.],\n",
       "        [ 1.,  0.,  1.,  0.,  0., 11., 21.],\n",
       "        [ 1.,  0.,  1.,  1.,  3., 11., 21.]])"
      ]
     },
     "execution_count": 130,
     "metadata": {},
     "output_type": "execute_result"
    }
   ],
   "source": [
    "batch['label']"
   ]
  },
  {
   "cell_type": "code",
   "execution_count": 96,
   "metadata": {},
   "outputs": [
    {
     "data": {
      "text/plain": [
       "tensor([[ 0.,  1.,  0.,  1.,  3., 24.,  2.],\n",
       "        [ 0.,  0.,  1.,  0.,  1., 16., 12.],\n",
       "        [ 1.,  1.,  1.,  0.,  0., 17., 25.],\n",
       "        [ 0.,  0.,  1.,  0.,  0.,  7., 13.],\n",
       "        [ 1.,  1.,  1.,  0.,  3., 25., 28.],\n",
       "        [ 1.,  1.,  0.,  1.,  3., 30.,  1.],\n",
       "        [ 1.,  0.,  0.,  1.,  1., 22., 10.],\n",
       "        [ 1.,  0.,  0.,  0.,  0., 19., 17.],\n",
       "        [ 0.,  1.,  1.,  0.,  2.,  2., 18.],\n",
       "        [ 0.,  1.,  1.,  0.,  3., 29., 10.],\n",
       "        [ 1.,  1.,  0.,  0.,  4.,  6., 17.],\n",
       "        [ 0.,  0.,  1.,  0.,  2.,  2.,  8.],\n",
       "        [ 1.,  1.,  0.,  1.,  2., 11.,  7.],\n",
       "        [ 1.,  0.,  0.,  1.,  1., 27., 14.],\n",
       "        [ 1.,  0.,  0.,  1.,  2.,  3., 26.],\n",
       "        [ 0.,  1.,  0.,  0.,  3., 30., 30.],\n",
       "        [ 1.,  1.,  0.,  1.,  3., 12., 14.],\n",
       "        [ 1.,  1.,  0.,  0.,  4., 11.,  4.],\n",
       "        [ 0.,  0.,  1.,  0.,  5., 30., 24.],\n",
       "        [ 0.,  0.,  1.,  1.,  2., 17., 27.],\n",
       "        [ 0.,  1.,  1.,  0.,  2.,  6., 15.],\n",
       "        [ 1.,  1.,  1.,  0.,  2.,  0.,  6.],\n",
       "        [ 0.,  1.,  1.,  0.,  4.,  6.,  6.],\n",
       "        [ 1.,  0.,  0.,  1.,  0., 19., 24.]])"
      ]
     },
     "execution_count": 96,
     "metadata": {},
     "output_type": "execute_result"
    }
   ],
   "source": [
    "latents = batch['label']\n",
    "latents"
   ]
  },
  {
   "cell_type": "code",
   "execution_count": 57,
   "metadata": {},
   "outputs": [
    {
     "data": {
      "text/plain": [
       "tensor([  264,   265,   266,  ..., 16823, 16824, 16825])"
      ]
     },
     "execution_count": 57,
     "metadata": {},
     "output_type": "execute_result"
    }
   ],
   "source": [
    "keep = data_module.labels[:,2] >= 8\n",
    "keep &= data_module.labels[:,2] < 16\n",
    "keep &= data_module.labels[:,3] >= 16\n",
    "keep &= data_module.labels[:,3] < 24\n",
    "test_position_mode_indices = torch.arange(len(keep))[keep]\n",
    "test_position_mode_indices"
   ]
  },
  {
   "cell_type": "code",
   "execution_count": 16,
   "metadata": {},
   "outputs": [
    {
     "data": {
      "text/plain": [
       "tensor([  676,  1637,  2598,  3559,  4520,  5481,  6442,  7403,  8364,  9325,\n",
       "        10286, 11247, 12208, 13169, 14130, 15091, 16052, 17013])"
      ]
     },
     "execution_count": 16,
     "metadata": {},
     "output_type": "execute_result"
    }
   ],
   "source": [
    "keep = data_module.labels[:,2] == 21 \n",
    "keep &= data_module.labels[:,3] == 9\n",
    "test_position_indices = torch.arange(len(keep))[keep]\n",
    "test_position_indices"
   ]
  },
  {
   "cell_type": "code",
   "execution_count": 25,
   "metadata": {},
   "outputs": [],
   "source": [
    "color_modes = np.ones((len(data_module), 7), dtype=bool)"
   ]
  },
  {
   "cell_type": "code",
   "execution_count": 29,
   "metadata": {},
   "outputs": [
    {
     "data": {
      "text/plain": [
       "(array([   24,    25,    26, ..., 16582, 16583, 16584]),)"
      ]
     },
     "execution_count": 29,
     "metadata": {},
     "output_type": "execute_result"
    }
   ],
   "source": [
    "keep = data_module.labels[:,2] < 8\n",
    "keep &= data_module.labels[:,3] >= 24\n",
    "color_modes[keep, 3] = 0\n",
    "\n",
    "keep = data_module.labels[:,0] == 1\n",
    "color_modes[keep, 4] = 0"
   ]
  },
  {
   "cell_type": "code",
   "execution_count": 33,
   "metadata": {},
   "outputs": [],
   "source": [
    "\n"
   ]
  },
  {
   "cell_type": "code",
   "execution_count": null,
   "metadata": {},
   "outputs": [],
   "source": []
  },
  {
   "cell_type": "code",
   "execution_count": 232,
   "metadata": {},
   "outputs": [
    {
     "data": {
      "text/plain": [
       "361"
      ]
     },
     "execution_count": 232,
     "metadata": {},
     "output_type": "execute_result"
    }
   ],
   "source": [
    "from torch.utils.data import WeightedRandomSampler, DataLoader\n",
    "from torchdata.datapipes.map import SequenceWrapper\n",
    "\n",
    "# sampler = WeightedRandomSampler(data_module.sample_weights, len(data_module.sample_weights))\n",
    "sampler = WeightedRandomSampler(data_module.sample_weights, len(data_module.sample_weights))\n",
    "i = 0\n",
    "for batch in DataLoader(data_module, batch_size=32, sampler=sampler, collate_fn=lambda x: x):\n",
    "    i += 1\n",
    "i\n",
    "# dp = SequenceWrapper(self.test_indices)\n",
    "# dp = dp.map(lambda i: self[i])\n",
    "# batch_size = self.batch_size if batch_size is None else batch_size\n",
    "# dataloader = DataLoader(data_module, batch_size=32, sampler=sampler)\n"
   ]
  },
  {
   "cell_type": "code",
   "execution_count": 234,
   "metadata": {},
   "outputs": [
    {
     "data": {
      "text/plain": [
       "37"
      ]
     },
     "execution_count": 234,
     "metadata": {},
     "output_type": "execute_result"
    }
   ],
   "source": [
    "sampler = RandomSampler(data_module.valid_indices, num_samples=len(data_module.valid_indices), replacement=True)\n",
    "dataloader = DataLoader(data_module, batch_size=32, sampler=sampler, collate_fn=lambda x: x, drop_last=True)\n",
    "i = 0\n",
    "for batch in DataLoader(data_module, batch_size=32, sampler=sampler, collate_fn=lambda x: x):\n",
    "    i += 1\n",
    "i"
   ]
  },
  {
   "cell_type": "code",
   "execution_count": 235,
   "metadata": {},
   "outputs": [
    {
     "data": {
      "text/plain": [
       "torch.Size([1153])"
      ]
     },
     "execution_count": 235,
     "metadata": {},
     "output_type": "execute_result"
    }
   ],
   "source": [
    "data_module.valid_indices.shape"
   ]
  },
  {
   "cell_type": "code",
   "execution_count": 178,
   "metadata": {},
   "outputs": [],
   "source": [
    "indices, images, latents = data_module.sample_training_batch(10)"
   ]
  },
  {
   "cell_type": "code",
   "execution_count": 179,
   "metadata": {},
   "outputs": [
    {
     "data": {
      "text/plain": [
       "torch.Size([10, 3, 32, 32])"
      ]
     },
     "execution_count": 179,
     "metadata": {},
     "output_type": "execute_result"
    }
   ],
   "source": [
    "images.shape"
   ]
  },
  {
   "cell_type": "code",
   "execution_count": 180,
   "metadata": {},
   "outputs": [
    {
     "data": {
      "image/png": "[encoded data removed]",
      "text/plain": [
       "<PIL.Image.Image image mode=RGB size=128x128>"
      ]
     },
     "execution_count": 180,
     "metadata": {},
     "output_type": "execute_result"
    }
   ],
   "source": [
    "data_module.render(images[3], size=128)"
   ]
  },
  {
   "cell_type": "code",
   "execution_count": null,
   "metadata": {},
   "outputs": [],
   "source": []
  },
  {
   "cell_type": "code",
   "execution_count": 163,
   "metadata": {},
   "outputs": [],
   "source": [
    "n = 50\n",
    "indices = np.random.choice(range(len(data_module.images)), size=n, p=data_module.sample_weights, replace=False)\n",
    "batch_images, batch_latents = data_module.create_batch(indices)"
   ]
  },
  {
   "cell_type": "code",
   "execution_count": 160,
   "metadata": {},
   "outputs": [
    {
     "data": {
      "text/plain": [
       "tensor([[[[0., 0., 0.,  ..., 0., 0., 0.],\n",
       "          [0., 0., 0.,  ..., 0., 0., 0.],\n",
       "          [0., 0., 0.,  ..., 0., 0., 0.],\n",
       "          ...,\n",
       "          [0., 0., 0.,  ..., 0., 0., 0.],\n",
       "          [0., 0., 0.,  ..., 0., 0., 0.],\n",
       "          [0., 0., 0.,  ..., 0., 0., 0.]],\n",
       "\n",
       "         [[0., 0., 0.,  ..., 0., 0., 0.],\n",
       "          [0., 0., 0.,  ..., 0., 0., 0.],\n",
       "          [0., 0., 0.,  ..., 0., 0., 0.],\n",
       "          ...,\n",
       "          [0., 0., 0.,  ..., 0., 0., 0.],\n",
       "          [0., 0., 0.,  ..., 0., 0., 0.],\n",
       "          [0., 0., 0.,  ..., 0., 0., 0.]],\n",
       "\n",
       "         [[0., 0., 0.,  ..., 0., 0., 0.],\n",
       "          [0., 0., 0.,  ..., 0., 0., 0.],\n",
       "          [0., 0., 0.,  ..., 0., 0., 0.],\n",
       "          ...,\n",
       "          [0., 0., 0.,  ..., 0., 0., 0.],\n",
       "          [0., 0., 0.,  ..., 0., 0., 0.],\n",
       "          [0., 0., 0.,  ..., 0., 0., 0.]]],\n",
       "\n",
       "\n",
       "        [[[0., 0., 0.,  ..., 0., 0., 0.],\n",
       "          [0., 0., 0.,  ..., 0., 0., 0.],\n",
       "          [0., 0., 0.,  ..., 0., 0., 0.],\n",
       "          ...,\n",
       "          [0., 0., 0.,  ..., 0., 0., 0.],\n",
       "          [0., 0., 0.,  ..., 0., 0., 0.],\n",
       "          [0., 0., 0.,  ..., 0., 0., 0.]],\n",
       "\n",
       "         [[0., 0., 0.,  ..., 0., 0., 0.],\n",
       "          [0., 0., 0.,  ..., 0., 0., 0.],\n",
       "          [0., 0., 0.,  ..., 0., 0., 0.],\n",
       "          ...,\n",
       "          [0., 0., 0.,  ..., 0., 0., 0.],\n",
       "          [0., 0., 0.,  ..., 0., 0., 0.],\n",
       "          [0., 0., 0.,  ..., 0., 0., 0.]],\n",
       "\n",
       "         [[0., 0., 0.,  ..., 0., 0., 0.],\n",
       "          [0., 0., 0.,  ..., 0., 0., 0.],\n",
       "          [0., 0., 0.,  ..., 0., 0., 0.],\n",
       "          ...,\n",
       "          [0., 0., 0.,  ..., 0., 0., 0.],\n",
       "          [0., 0., 0.,  ..., 0., 0., 0.],\n",
       "          [0., 0., 0.,  ..., 0., 0., 0.]]],\n",
       "\n",
       "\n",
       "        [[[0., 0., 0.,  ..., 0., 0., 0.],\n",
       "          [0., 0., 0.,  ..., 0., 0., 0.],\n",
       "          [0., 0., 0.,  ..., 0., 0., 0.],\n",
       "          ...,\n",
       "          [0., 0., 0.,  ..., 0., 0., 0.],\n",
       "          [0., 0., 0.,  ..., 0., 0., 0.],\n",
       "          [0., 0., 0.,  ..., 0., 0., 0.]],\n",
       "\n",
       "         [[0., 0., 0.,  ..., 0., 0., 0.],\n",
       "          [0., 0., 0.,  ..., 0., 0., 0.],\n",
       "          [0., 0., 0.,  ..., 0., 0., 0.],\n",
       "          ...,\n",
       "          [0., 0., 0.,  ..., 0., 0., 0.],\n",
       "          [0., 0., 0.,  ..., 0., 0., 0.],\n",
       "          [0., 0., 0.,  ..., 0., 0., 0.]],\n",
       "\n",
       "         [[0., 0., 0.,  ..., 0., 0., 0.],\n",
       "          [0., 0., 0.,  ..., 0., 0., 0.],\n",
       "          [0., 0., 0.,  ..., 0., 0., 0.],\n",
       "          ...,\n",
       "          [0., 0., 0.,  ..., 0., 0., 0.],\n",
       "          [0., 0., 0.,  ..., 0., 0., 0.],\n",
       "          [0., 0., 0.,  ..., 0., 0., 0.]]],\n",
       "\n",
       "\n",
       "        ...,\n",
       "\n",
       "\n",
       "        [[[0., 0., 0.,  ..., 0., 0., 0.],\n",
       "          [0., 0., 0.,  ..., 0., 0., 0.],\n",
       "          [0., 0., 0.,  ..., 0., 0., 0.],\n",
       "          ...,\n",
       "          [0., 0., 0.,  ..., 0., 0., 0.],\n",
       "          [0., 0., 0.,  ..., 0., 0., 0.],\n",
       "          [0., 0., 0.,  ..., 0., 0., 0.]],\n",
       "\n",
       "         [[0., 0., 0.,  ..., 0., 0., 0.],\n",
       "          [0., 0., 0.,  ..., 0., 0., 0.],\n",
       "          [0., 0., 0.,  ..., 0., 0., 0.],\n",
       "          ...,\n",
       "          [0., 0., 0.,  ..., 0., 0., 0.],\n",
       "          [0., 0., 0.,  ..., 0., 0., 0.],\n",
       "          [0., 0., 0.,  ..., 0., 0., 0.]],\n",
       "\n",
       "         [[0., 0., 0.,  ..., 0., 0., 0.],\n",
       "          [0., 0., 0.,  ..., 0., 0., 0.],\n",
       "          [0., 0., 0.,  ..., 0., 0., 0.],\n",
       "          ...,\n",
       "          [0., 0., 0.,  ..., 0., 0., 0.],\n",
       "          [0., 0., 0.,  ..., 0., 0., 0.],\n",
       "          [0., 0., 0.,  ..., 0., 0., 0.]]],\n",
       "\n",
       "\n",
       "        [[[0., 0., 0.,  ..., 0., 0., 0.],\n",
       "          [0., 0., 0.,  ..., 0., 0., 0.],\n",
       "          [0., 0., 0.,  ..., 0., 0., 0.],\n",
       "          ...,\n",
       "          [0., 0., 0.,  ..., 0., 0., 0.],\n",
       "          [0., 0., 0.,  ..., 0., 0., 0.],\n",
       "          [0., 0., 0.,  ..., 0., 0., 0.]],\n",
       "\n",
       "         [[0., 0., 0.,  ..., 0., 0., 0.],\n",
       "          [0., 0., 0.,  ..., 0., 0., 0.],\n",
       "          [0., 0., 0.,  ..., 0., 0., 0.],\n",
       "          ...,\n",
       "          [0., 0., 0.,  ..., 0., 0., 0.],\n",
       "          [0., 0., 0.,  ..., 0., 0., 0.],\n",
       "          [0., 0., 0.,  ..., 0., 0., 0.]],\n",
       "\n",
       "         [[0., 0., 0.,  ..., 0., 0., 0.],\n",
       "          [0., 0., 0.,  ..., 0., 0., 0.],\n",
       "          [0., 0., 0.,  ..., 0., 0., 0.],\n",
       "          ...,\n",
       "          [0., 0., 0.,  ..., 0., 0., 0.],\n",
       "          [0., 0., 0.,  ..., 0., 0., 0.],\n",
       "          [0., 0., 0.,  ..., 0., 0., 0.]]],\n",
       "\n",
       "\n",
       "        [[[0., 0., 0.,  ..., 0., 0., 0.],\n",
       "          [0., 0., 0.,  ..., 0., 0., 0.],\n",
       "          [0., 0., 0.,  ..., 0., 0., 0.],\n",
       "          ...,\n",
       "          [0., 0., 0.,  ..., 0., 0., 0.],\n",
       "          [0., 0., 0.,  ..., 0., 0., 0.],\n",
       "          [0., 0., 0.,  ..., 0., 0., 0.]],\n",
       "\n",
       "         [[0., 0., 0.,  ..., 0., 0., 0.],\n",
       "          [0., 0., 0.,  ..., 0., 0., 0.],\n",
       "          [0., 0., 0.,  ..., 0., 0., 0.],\n",
       "          ...,\n",
       "          [0., 0., 0.,  ..., 0., 0., 0.],\n",
       "          [0., 0., 0.,  ..., 0., 0., 0.],\n",
       "          [0., 0., 0.,  ..., 0., 0., 0.]],\n",
       "\n",
       "         [[0., 0., 0.,  ..., 0., 0., 0.],\n",
       "          [0., 0., 0.,  ..., 0., 0., 0.],\n",
       "          [0., 0., 0.,  ..., 0., 0., 0.],\n",
       "          ...,\n",
       "          [0., 0., 0.,  ..., 0., 0., 0.],\n",
       "          [0., 0., 0.,  ..., 0., 0., 0.],\n",
       "          [0., 0., 0.,  ..., 0., 0., 0.]]]])"
      ]
     },
     "execution_count": 160,
     "metadata": {},
     "output_type": "execute_result"
    }
   ],
   "source": [
    "batch_images.float()"
   ]
  },
  {
   "cell_type": "code",
   "execution_count": 155,
   "metadata": {},
   "outputs": [
    {
     "data": {
      "text/plain": [
       "tensor([[[[0., 0., 0.,  ..., 0., 0., 0.],\n",
       "          [0., 0., 0.,  ..., 0., 0., 0.],\n",
       "          [0., 0., 0.,  ..., 0., 0., 0.],\n",
       "          ...,\n",
       "          [0., 0., 0.,  ..., 0., 0., 0.],\n",
       "          [0., 0., 0.,  ..., 0., 0., 0.],\n",
       "          [0., 0., 0.,  ..., 0., 0., 0.]],\n",
       "\n",
       "         [[0., 0., 0.,  ..., 0., 0., 0.],\n",
       "          [0., 0., 0.,  ..., 0., 0., 0.],\n",
       "          [0., 0., 0.,  ..., 0., 0., 0.],\n",
       "          ...,\n",
       "          [0., 0., 0.,  ..., 0., 0., 0.],\n",
       "          [0., 0., 0.,  ..., 0., 0., 0.],\n",
       "          [0., 0., 0.,  ..., 0., 0., 0.]],\n",
       "\n",
       "         [[0., 0., 0.,  ..., 0., 0., 0.],\n",
       "          [0., 0., 0.,  ..., 0., 0., 0.],\n",
       "          [0., 0., 0.,  ..., 0., 0., 0.],\n",
       "          ...,\n",
       "          [0., 0., 0.,  ..., 0., 0., 0.],\n",
       "          [0., 0., 0.,  ..., 0., 0., 0.],\n",
       "          [0., 0., 0.,  ..., 0., 0., 0.]]],\n",
       "\n",
       "\n",
       "        [[[0., 0., 0.,  ..., 0., 0., 0.],\n",
       "          [0., 0., 0.,  ..., 0., 0., 0.],\n",
       "          [0., 0., 0.,  ..., 0., 0., 0.],\n",
       "          ...,\n",
       "          [0., 0., 0.,  ..., 0., 0., 0.],\n",
       "          [0., 0., 0.,  ..., 0., 0., 0.],\n",
       "          [0., 0., 0.,  ..., 0., 0., 0.]],\n",
       "\n",
       "         [[0., 0., 0.,  ..., 0., 0., 0.],\n",
       "          [0., 0., 0.,  ..., 0., 0., 0.],\n",
       "          [0., 0., 0.,  ..., 0., 0., 0.],\n",
       "          ...,\n",
       "          [0., 0., 0.,  ..., 0., 0., 0.],\n",
       "          [0., 0., 0.,  ..., 0., 0., 0.],\n",
       "          [0., 0., 0.,  ..., 0., 0., 0.]],\n",
       "\n",
       "         [[0., 0., 0.,  ..., 0., 0., 0.],\n",
       "          [0., 0., 0.,  ..., 0., 0., 0.],\n",
       "          [0., 0., 0.,  ..., 0., 0., 0.],\n",
       "          ...,\n",
       "          [0., 0., 0.,  ..., 0., 0., 0.],\n",
       "          [0., 0., 0.,  ..., 0., 0., 0.],\n",
       "          [0., 0., 0.,  ..., 0., 0., 0.]]],\n",
       "\n",
       "\n",
       "        [[[0., 0., 0.,  ..., 0., 0., 0.],\n",
       "          [0., 0., 0.,  ..., 0., 0., 0.],\n",
       "          [0., 0., 0.,  ..., 0., 0., 0.],\n",
       "          ...,\n",
       "          [0., 0., 0.,  ..., 0., 0., 0.],\n",
       "          [0., 0., 0.,  ..., 0., 0., 0.],\n",
       "          [0., 0., 0.,  ..., 0., 0., 0.]],\n",
       "\n",
       "         [[0., 0., 0.,  ..., 0., 0., 0.],\n",
       "          [0., 0., 0.,  ..., 0., 0., 0.],\n",
       "          [0., 0., 0.,  ..., 0., 0., 0.],\n",
       "          ...,\n",
       "          [0., 0., 0.,  ..., 0., 0., 0.],\n",
       "          [0., 0., 0.,  ..., 0., 0., 0.],\n",
       "          [0., 0., 0.,  ..., 0., 0., 0.]],\n",
       "\n",
       "         [[0., 0., 0.,  ..., 0., 0., 0.],\n",
       "          [0., 0., 0.,  ..., 0., 0., 0.],\n",
       "          [0., 0., 0.,  ..., 0., 0., 0.],\n",
       "          ...,\n",
       "          [0., 0., 0.,  ..., 0., 0., 0.],\n",
       "          [0., 0., 0.,  ..., 0., 0., 0.],\n",
       "          [0., 0., 0.,  ..., 0., 0., 0.]]],\n",
       "\n",
       "\n",
       "        ...,\n",
       "\n",
       "\n",
       "        [[[0., 0., 0.,  ..., 0., 0., 0.],\n",
       "          [0., 0., 0.,  ..., 0., 0., 0.],\n",
       "          [0., 0., 0.,  ..., 0., 0., 0.],\n",
       "          ...,\n",
       "          [0., 0., 0.,  ..., 0., 0., 0.],\n",
       "          [0., 0., 0.,  ..., 0., 0., 0.],\n",
       "          [0., 0., 0.,  ..., 0., 0., 0.]],\n",
       "\n",
       "         [[0., 0., 0.,  ..., 0., 0., 0.],\n",
       "          [0., 0., 0.,  ..., 0., 0., 0.],\n",
       "          [0., 0., 0.,  ..., 0., 0., 0.],\n",
       "          ...,\n",
       "          [0., 0., 0.,  ..., 0., 0., 0.],\n",
       "          [0., 0., 0.,  ..., 0., 0., 0.],\n",
       "          [0., 0., 0.,  ..., 0., 0., 0.]],\n",
       "\n",
       "         [[0., 0., 0.,  ..., 0., 0., 0.],\n",
       "          [0., 0., 0.,  ..., 0., 0., 0.],\n",
       "          [0., 0., 0.,  ..., 0., 0., 0.],\n",
       "          ...,\n",
       "          [0., 0., 0.,  ..., 0., 0., 0.],\n",
       "          [0., 0., 0.,  ..., 0., 0., 0.],\n",
       "          [0., 0., 0.,  ..., 0., 0., 0.]]],\n",
       "\n",
       "\n",
       "        [[[0., 0., 0.,  ..., 0., 0., 0.],\n",
       "          [0., 0., 0.,  ..., 0., 0., 0.],\n",
       "          [0., 0., 0.,  ..., 0., 0., 0.],\n",
       "          ...,\n",
       "          [0., 0., 0.,  ..., 0., 0., 0.],\n",
       "          [0., 0., 0.,  ..., 0., 0., 0.],\n",
       "          [0., 0., 0.,  ..., 0., 0., 0.]],\n",
       "\n",
       "         [[0., 0., 0.,  ..., 0., 0., 0.],\n",
       "          [0., 0., 0.,  ..., 0., 0., 0.],\n",
       "          [0., 0., 0.,  ..., 0., 0., 0.],\n",
       "          ...,\n",
       "          [0., 0., 0.,  ..., 0., 0., 0.],\n",
       "          [0., 0., 0.,  ..., 0., 0., 0.],\n",
       "          [0., 0., 0.,  ..., 0., 0., 0.]],\n",
       "\n",
       "         [[0., 0., 0.,  ..., 0., 0., 0.],\n",
       "          [0., 0., 0.,  ..., 0., 0., 0.],\n",
       "          [0., 0., 0.,  ..., 0., 0., 0.],\n",
       "          ...,\n",
       "          [0., 0., 0.,  ..., 0., 0., 0.],\n",
       "          [0., 0., 0.,  ..., 0., 0., 0.],\n",
       "          [0., 0., 0.,  ..., 0., 0., 0.]]],\n",
       "\n",
       "\n",
       "        [[[0., 0., 0.,  ..., 0., 0., 0.],\n",
       "          [0., 0., 0.,  ..., 0., 0., 0.],\n",
       "          [0., 0., 0.,  ..., 0., 0., 0.],\n",
       "          ...,\n",
       "          [0., 0., 0.,  ..., 0., 0., 0.],\n",
       "          [0., 0., 0.,  ..., 0., 0., 0.],\n",
       "          [0., 0., 0.,  ..., 0., 0., 0.]],\n",
       "\n",
       "         [[0., 0., 0.,  ..., 0., 0., 0.],\n",
       "          [0., 0., 0.,  ..., 0., 0., 0.],\n",
       "          [0., 0., 0.,  ..., 0., 0., 0.],\n",
       "          ...,\n",
       "          [0., 0., 0.,  ..., 0., 0., 0.],\n",
       "          [0., 0., 0.,  ..., 0., 0., 0.],\n",
       "          [0., 0., 0.,  ..., 0., 0., 0.]],\n",
       "\n",
       "         [[0., 0., 0.,  ..., 0., 0., 0.],\n",
       "          [0., 0., 0.,  ..., 0., 0., 0.],\n",
       "          [0., 0., 0.,  ..., 0., 0., 0.],\n",
       "          ...,\n",
       "          [0., 0., 0.,  ..., 0., 0., 0.],\n",
       "          [0., 0., 0.,  ..., 0., 0., 0.],\n",
       "          [0., 0., 0.,  ..., 0., 0., 0.]]]], dtype=torch.float64)"
      ]
     },
     "execution_count": 155,
     "metadata": {},
     "output_type": "execute_result"
    }
   ],
   "source": [
    "batch_images"
   ]
  },
  {
   "cell_type": "code",
   "execution_count": 150,
   "metadata": {},
   "outputs": [
    {
     "data": {
      "text/plain": [
       "array([[0.06010244, 0.95630283, 0.91258153, 1.        , 0.7       ,\n",
       "        0.25806452, 0.80645161],\n",
       "       [0.85552903, 0.75694844, 0.03935844, 3.        , 0.6       ,\n",
       "        0.93548387, 0.25806452],\n",
       "       [0.84945388, 0.63862604, 0.05785464, 1.        , 0.5       ,\n",
       "        0.61290323, 0.64516129],\n",
       "       [0.15421729, 0.33562714, 0.87293886, 1.        , 0.5       ,\n",
       "        0.38709677, 0.48387097],\n",
       "       [0.97584515, 0.09746098, 0.16778789, 2.        , 0.7       ,\n",
       "        0.38709677, 0.77419355],\n",
       "       [0.38210371, 0.71260872, 0.3835009 , 3.        , 0.8       ,\n",
       "        0.64516129, 0.90322581],\n",
       "       [0.15711698, 0.15440336, 0.81402144, 3.        , 0.6       ,\n",
       "        0.35483871, 0.64516129],\n",
       "       [0.95789881, 0.44397765, 0.14686003, 3.        , 0.8       ,\n",
       "        0.19354839, 0.38709677],\n",
       "       [0.73000613, 0.60885853, 0.73825973, 2.        , 0.6       ,\n",
       "        0.64516129, 0.77419355],\n",
       "       [0.45742446, 0.64921159, 0.33923173, 1.        , 1.        ,\n",
       "        0.35483871, 0.35483871],\n",
       "       [0.83443317, 0.98894964, 0.12547389, 2.        , 0.5       ,\n",
       "        0.12903226, 0.80645161],\n",
       "       [0.08000874, 0.89299012, 0.04924944, 3.        , 1.        ,\n",
       "        0.80645161, 0.96774194],\n",
       "       [0.01819616, 0.95517138, 0.03784126, 2.        , 0.5       ,\n",
       "        0.19354839, 0.03225806],\n",
       "       [0.10754182, 0.0468903 , 0.93292626, 3.        , 0.6       ,\n",
       "        0.48387097, 0.32258065],\n",
       "       [0.84210016, 0.96633326, 0.90294402, 3.        , 1.        ,\n",
       "        0.22580645, 0.87096774],\n",
       "       [0.1297811 , 0.82092206, 0.8186315 , 1.        , 0.9       ,\n",
       "        0.06451613, 0.93548387],\n",
       "       [0.03825025, 0.93602762, 0.85699233, 1.        , 0.8       ,\n",
       "        0.87096774, 0.51612903],\n",
       "       [0.07353919, 0.00871612, 0.83079669, 3.        , 0.7       ,\n",
       "        0.83870968, 0.90322581],\n",
       "       [0.97983199, 0.63404191, 0.30569449, 1.        , 0.8       ,\n",
       "        0.87096774, 0.87096774],\n",
       "       [0.81634161, 0.07133438, 0.16626316, 3.        , 0.6       ,\n",
       "        0.5483871 , 0.5483871 ],\n",
       "       [0.93269019, 0.74990055, 0.96902564, 3.        , 0.7       ,\n",
       "        0.80645161, 0.4516129 ],\n",
       "       [0.25961879, 0.71735272, 0.6939148 , 2.        , 1.        ,\n",
       "        0.64516129, 0.22580645],\n",
       "       [0.76757945, 0.92054661, 0.8921803 , 1.        , 0.5       ,\n",
       "        0.80645161, 0.87096774],\n",
       "       [0.69996181, 0.0603976 , 0.06562746, 3.        , 0.5       ,\n",
       "        0.83870968, 0.09677419],\n",
       "       [0.07653849, 0.86158217, 0.01826306, 2.        , 0.7       ,\n",
       "        0.83870968, 0.61290323],\n",
       "       [0.16162832, 0.23826721, 0.6395829 , 1.        , 0.9       ,\n",
       "        0.35483871, 0.64516129],\n",
       "       [0.06414973, 0.94116608, 0.0930603 , 1.        , 0.8       ,\n",
       "        0.16129032, 0.5483871 ],\n",
       "       [0.9201698 , 0.41138893, 0.09875122, 1.        , 0.6       ,\n",
       "        0.19354839, 0.38709677],\n",
       "       [0.67006683, 0.87752156, 0.35749188, 2.        , 1.        ,\n",
       "        0.5483871 , 0.41935484],\n",
       "       [0.8042015 , 0.34093189, 0.86597738, 1.        , 0.5       ,\n",
       "        0.61290323, 0.80645161],\n",
       "       [0.92004152, 0.0334845 , 0.9475594 , 3.        , 0.7       ,\n",
       "        0.4516129 , 0.96774194],\n",
       "       [0.34731361, 0.99726173, 0.11788668, 2.        , 0.6       ,\n",
       "        0.51612903, 0.16129032],\n",
       "       [0.90171675, 0.8972889 , 0.26507077, 3.        , 0.8       ,\n",
       "        0.51612903, 0.09677419],\n",
       "       [0.68797317, 0.71640271, 0.741429  , 1.        , 0.7       ,\n",
       "        0.38709677, 0.90322581],\n",
       "       [0.12884411, 0.98841637, 0.85551259, 2.        , 0.7       ,\n",
       "        0.83870968, 0.12903226],\n",
       "       [0.83698341, 0.33800548, 0.84625478, 1.        , 0.9       ,\n",
       "        0.22580645, 0.03225806],\n",
       "       [0.94772278, 0.82402632, 0.02505952, 2.        , 0.7       ,\n",
       "        0.74193548, 0.80645161],\n",
       "       [0.89563646, 0.07458355, 0.91054732, 2.        , 0.7       ,\n",
       "        0.83870968, 0.5483871 ],\n",
       "       [0.17557423, 0.36972469, 0.85388711, 3.        , 0.5       ,\n",
       "        0.06451613, 0.77419355],\n",
       "       [0.33729729, 0.91812153, 0.71908215, 2.        , 0.9       ,\n",
       "        0.51612903, 0.83870968],\n",
       "       [0.17096208, 0.04488657, 0.81826845, 2.        , 0.6       ,\n",
       "        0.        , 0.35483871],\n",
       "       [0.16282015, 0.35380453, 0.85202193, 2.        , 1.        ,\n",
       "        0.12903226, 0.51612903],\n",
       "       [0.27142078, 0.8938816 , 0.08025102, 1.        , 0.5       ,\n",
       "        0.32258065, 0.93548387],\n",
       "       [0.89492675, 0.23700617, 0.16300194, 3.        , 0.5       ,\n",
       "        0.58064516, 0.35483871],\n",
       "       [0.18324344, 0.6617741 , 0.94499869, 1.        , 0.7       ,\n",
       "        0.12903226, 0.06451613],\n",
       "       [0.26311454, 0.81634188, 0.34214067, 2.        , 0.7       ,\n",
       "        0.12903226, 0.51612903],\n",
       "       [0.94845356, 0.97149229, 0.66083959, 1.        , 0.7       ,\n",
       "        0.64516129, 0.74193548],\n",
       "       [0.92560378, 0.08928569, 0.84992175, 3.        , 0.6       ,\n",
       "        0.51612903, 0.41935484],\n",
       "       [0.30128184, 0.75595169, 0.11030027, 2.        , 0.7       ,\n",
       "        0.09677419, 0.38709677],\n",
       "       [0.608197  , 0.26436701, 0.11665118, 1.        , 0.6       ,\n",
       "        0.80645161, 0.77419355]])"
      ]
     },
     "execution_count": 150,
     "metadata": {},
     "output_type": "execute_result"
    }
   ],
   "source": [
    "batch_latents"
   ]
  },
  {
   "cell_type": "code",
   "execution_count": null,
   "metadata": {},
   "outputs": [],
   "source": []
  },
  {
   "cell_type": "code",
   "execution_count": 129,
   "metadata": {},
   "outputs": [
    {
     "name": "stderr",
     "output_type": "stream",
     "text": [
      "/home/ajhnam/anaconda3/envs/gfn-attractors/lib/python3.10/site-packages/torchvision/transforms/functional.py:1603: UserWarning: The default value of the antialias parameter of all the resizing transforms (Resize(), RandomResizedCrop(), etc.) will change from None to True in v0.17, in order to be consistent across the PIL and Tensor backends. To suppress this warning, directly pass antialias=True (recommended, future default), antialias=None (current default, which means False for Tensors and True for PIL), or antialias=False (only works on Tensors - PIL will still use antialiasing). This also applies if you are using the inference transforms from the models weights: update the call to weights.transforms(antialias=True).\n",
      "  warnings.warn(\n"
     ]
    }
   ],
   "source": [
    "constant_orientation = True\n",
    "min_scale = 0\n",
    "size = 32\n",
    "\n",
    "with np.load(AmbiguousDSpritesDataModule.RAW_DATA_PATH) as raw_data:\n",
    "    images = raw_data['imgs']\n",
    "    labels = raw_data['latents_classes']\n",
    "    latents = raw_data['latents_values']\n",
    "\n",
    "if constant_orientation:\n",
    "    # Remove all the images with orientation != 0\n",
    "    keep = labels[:, 3] == 0\n",
    "if min_scale > 0:\n",
    "    keep &= labels[:, 2] >= min_scale\n",
    "keep &= labels[:,-1] < 31\n",
    "keep &= labels[:,-2] < 31\n",
    "images = images[keep]\n",
    "labels = labels[keep][:, [1, 2, 4, 5]]\n",
    "latents = latents[keep][:, [1, 2, 4, 5]]\n",
    "\n",
    "if size != 64:\n",
    "    images = transforms.Resize(size)(torch.tensor(images)).numpy()"
   ]
  },
  {
   "cell_type": "code",
   "execution_count": 138,
   "metadata": {},
   "outputs": [],
   "source": [
    "batch_size = 10\n",
    "pos_weight = np.array([2, 3, 4, 5, 4, 3, 2, 1, 2, 3, 4, 5, 4, 3, 2, 1, 2, 3, 4, 5, 4, 3, 2, 1, 2, 3, 4, 5, 4, 3, 2])\n",
    "weight = pos_weight[labels[:,-2]] * pos_weight[labels[:,-1]]\n",
    "weight = weight / weight.sum()\n",
    "\n",
    "indices = np.random.choice(range(len(images)), size=batch_size, p=weight, replace=False)\n",
    "batch_images = images[indices]\n",
    "batch_images = einops.repeat(batch_images, 'b x y -> b 3 x y')\n",
    "batch_latents = latents[indices]"
   ]
  },
  {
   "cell_type": "code",
   "execution_count": 139,
   "metadata": {},
   "outputs": [],
   "source": [
    "rgb = np.array([[1, 0, 0],\n",
    "               [0, 1, 0],\n",
    "               [0, 0, 1],\n",
    "               [1, 1, 0],\n",
    "               [1, 0, 1],\n",
    "               [0, 1, 1],\n",
    "               [1, 1, 1]], dtype=float)\n",
    "colors = rgb[np.random.randint(0, len(rgb), batch_size)]\n",
    "noise = x = torch.distributions.HalfNormal(.2).sample((batch_size, 3)).numpy()\n",
    "colors += noise * (-2*colors + 1)\n",
    "batch_latents = np.concatenate([colors, batch_latents], axis=1)\n",
    "colors = einops.repeat(colors, 'b c -> b c 1 1')\n",
    "batch_images = batch_images * colors"
   ]
  },
  {
   "cell_type": "code",
   "execution_count": 140,
   "metadata": {},
   "outputs": [
    {
     "data": {
      "text/plain": [
       "array([[0.09240376, 0.78590433, 0.00472882, 1.        , 0.8       ,\n",
       "        0.22580645, 0.03225806],\n",
       "       [0.89358191, 0.88853043, 0.04821232, 2.        , 0.5       ,\n",
       "        0.93548387, 0.03225806],\n",
       "       [0.93807215, 0.13481329, 0.08933251, 3.        , 0.7       ,\n",
       "        0.29032258, 0.96774194],\n",
       "       [0.96036996, 0.21384671, 0.81938758, 1.        , 0.8       ,\n",
       "        0.83870968, 0.22580645],\n",
       "       [0.27016112, 0.49734187, 0.32005247, 3.        , 1.        ,\n",
       "        0.93548387, 0.09677419],\n",
       "       [0.01653031, 0.85030366, 0.98511193, 2.        , 0.6       ,\n",
       "        0.32258065, 0.77419355],\n",
       "       [0.07797339, 0.92051079, 0.99402194, 1.        , 0.8       ,\n",
       "        0.58064516, 0.87096774],\n",
       "       [0.71592164, 0.29553682, 0.13806298, 3.        , 0.5       ,\n",
       "        0.25806452, 0.64516129],\n",
       "       [0.93004499, 0.81124002, 0.31756613, 3.        , 0.5       ,\n",
       "        0.09677419, 0.64516129],\n",
       "       [0.04546512, 0.99299737, 0.77421126, 2.        , 0.7       ,\n",
       "        0.03225806, 0.12903226]])"
      ]
     },
     "execution_count": 140,
     "metadata": {},
     "output_type": "execute_result"
    }
   ],
   "source": [
    "batch_latents"
   ]
  },
  {
   "cell_type": "code",
   "execution_count": 141,
   "metadata": {},
   "outputs": [
    {
     "data": {
      "image/png": "[encoded data removed]",
      "text/plain": [
       "<PIL.Image.Image image mode=RGB size=128x128>"
      ]
     },
     "execution_count": 141,
     "metadata": {},
     "output_type": "execute_result"
    }
   ],
   "source": [
    "data_module.render(torch.tensor(batch_images)[2], size=128)"
   ]
  },
  {
   "cell_type": "code",
   "execution_count": null,
   "metadata": {},
   "outputs": [],
   "source": []
  },
  {
   "cell_type": "code",
   "execution_count": null,
   "metadata": {},
   "outputs": [],
   "source": []
  },
  {
   "cell_type": "code",
   "execution_count": 46,
   "metadata": {},
   "outputs": [
    {
     "data": {
      "text/plain": [
       "(array([20., 26., 23., 27., 18., 17., 31., 20., 23., 19., 21., 12., 21.,\n",
       "        23., 14., 14., 18., 18., 20., 12.,  7., 12., 11., 10.,  8.,  5.,\n",
       "         2.,  9.,  5.,  4.,  4.,  2.,  4.,  2.,  4.,  4.,  2.,  1.,  2.,\n",
       "         4.,  0.,  1.,  0.,  0.,  0.,  0.,  0.,  0.,  0.,  0.,  0.,  0.,\n",
       "         0.,  0.,  1.,  0.,  2.,  1.,  1.,  0.,  1.,  0.,  6.,  1.,  0.,\n",
       "         4.,  4.,  1.,  4.,  4.,  2.,  8.,  5.,  4.,  9., 15.,  9., 18.,\n",
       "         7., 12.,  9., 14.,  6., 20., 19.,  8., 12., 27., 23., 17., 20.,\n",
       "        22., 17., 19., 27., 27., 21., 27., 25., 21.]),\n",
       " array([0.00147911, 0.011462  , 0.0214449 , 0.03142779, 0.04141069,\n",
       "        0.05139358, 0.06137647, 0.07135937, 0.08134226, 0.09132515,\n",
       "        0.10130805, 0.11129094, 0.12127384, 0.13125673, 0.14123962,\n",
       "        0.15122252, 0.16120541, 0.1711883 , 0.1811712 , 0.19115409,\n",
       "        0.20113699, 0.21111988, 0.22110277, 0.23108567, 0.24106856,\n",
       "        0.25105145, 0.26103435, 0.27101724, 0.28100014, 0.29098303,\n",
       "        0.30096592, 0.31094882, 0.32093171, 0.3309146 , 0.3408975 ,\n",
       "        0.35088039, 0.36086329, 0.37084618, 0.38082907, 0.39081197,\n",
       "        0.40079486, 0.41077775, 0.42076065, 0.43074354, 0.44072644,\n",
       "        0.45070933, 0.46069222, 0.47067512, 0.48065801, 0.4906409 ,\n",
       "        0.5006238 , 0.51060669, 0.52058959, 0.53057248, 0.54055537,\n",
       "        0.55053827, 0.56052116, 0.57050405, 0.58048695, 0.59046984,\n",
       "        0.60045274, 0.61043563, 0.62041852, 0.63040142, 0.64038431,\n",
       "        0.6503672 , 0.6603501 , 0.67033299, 0.68031589, 0.69029878,\n",
       "        0.70028167, 0.71026457, 0.72024746, 0.73023035, 0.74021325,\n",
       "        0.75019614, 0.76017904, 0.77016193, 0.78014482, 0.79012772,\n",
       "        0.80011061, 0.8100935 , 0.8200764 , 0.83005929, 0.84004219,\n",
       "        0.85002508, 0.86000797, 0.86999087, 0.87997376, 0.88995665,\n",
       "        0.89993955, 0.90992244, 0.91990534, 0.92988823, 0.93987112,\n",
       "        0.94985402, 0.95983691, 0.9698198 , 0.9798027 , 0.98978559,\n",
       "        0.99976849]),\n",
       " <BarContainer object of 100 artists>)"
      ]
     },
     "execution_count": 46,
     "metadata": {},
     "output_type": "execute_result"
    },
    {
     "data": {
      "image/png": "[encoded data removed]",
      "text/plain": [
       "<Figure size 640x480 with 1 Axes>"
      ]
     },
     "metadata": {},
     "output_type": "display_data"
    }
   ],
   "source": [
    "from matplotlib import pyplot as plt\n",
    "plt.hist((np.random.beta(4, 4, size=(1000, 1)) + .5)%1, bins=100)\n",
    "# plt.h (np.random.beta(5, 5, size=(100, 1)) + .5)%1"
   ]
  },
  {
   "cell_type": "code",
   "execution_count": 39,
   "metadata": {},
   "outputs": [
    {
     "data": {
      "text/plain": [
       "(10,)"
      ]
     },
     "execution_count": 39,
     "metadata": {},
     "output_type": "execute_result"
    }
   ],
   "source": [
    "batch_images = images[indices]"
   ]
  },
  {
   "cell_type": "code",
   "execution_count": 105,
   "metadata": {},
   "outputs": [
    {
     "data": {
      "text/plain": [
       "(array([24., 26., 31., 33., 21., 30., 34., 24., 24., 36., 24., 24., 21.,\n",
       "        22., 32., 17., 21., 28., 34., 18., 24., 22., 24., 24., 15., 15.,\n",
       "        21., 17., 15., 19.,  8., 22., 15., 12., 10.,  8., 16., 10., 12.,\n",
       "        13., 16., 15.,  8.,  6.,  7.,  9.,  9.,  5.,  3.,  5.,  6.,  2.,\n",
       "         6.,  6.,  7.,  9.,  1.,  3.,  3.,  0.,  1.,  4.,  2.,  1.,  0.,\n",
       "         2.,  1.,  0.,  1.,  1.,  1.,  1.,  2.,  2.,  3.,  0.,  0.,  2.,\n",
       "         0.,  1.,  1.,  0.,  0.,  0.,  0.,  0.,  0.,  0.,  0.,  0.,  0.,\n",
       "         0.,  0.,  0.,  1.,  0.,  0.,  0.,  0.,  1.]),\n",
       " array([0.00101205, 0.00812837, 0.01524468, 0.022361  , 0.02947732,\n",
       "        0.03659363, 0.04370994, 0.05082626, 0.05794258, 0.06505889,\n",
       "        0.07217521, 0.07929152, 0.08640784, 0.09352416, 0.10064047,\n",
       "        0.10775679, 0.1148731 , 0.12198942, 0.12910573, 0.13622205,\n",
       "        0.14333837, 0.15045469, 0.157571  , 0.16468732, 0.17180362,\n",
       "        0.17891994, 0.18603626, 0.19315258, 0.20026889, 0.20738521,\n",
       "        0.21450153, 0.22161783, 0.22873415, 0.23585047, 0.24296679,\n",
       "        0.25008309, 0.25719941, 0.26431572, 0.27143204, 0.27854836,\n",
       "        0.28566468, 0.292781  , 0.29989731, 0.30701363, 0.31412995,\n",
       "        0.32124627, 0.32836258, 0.3354789 , 0.34259522, 0.34971151,\n",
       "        0.35682783, 0.36394414, 0.37106046, 0.37817678, 0.3852931 ,\n",
       "        0.39240941, 0.39952573, 0.40664205, 0.41375837, 0.42087469,\n",
       "        0.427991  , 0.43510732, 0.44222364, 0.44933996, 0.45645624,\n",
       "        0.46357256, 0.47068888, 0.4778052 , 0.48492151, 0.49203783,\n",
       "        0.49915415, 0.50627047, 0.51338679, 0.5205031 , 0.52761942,\n",
       "        0.53473574, 0.54185206, 0.54896837, 0.55608469, 0.56320101,\n",
       "        0.57031733, 0.57743365, 0.58454996, 0.59166628, 0.5987826 ,\n",
       "        0.60589892, 0.61301517, 0.62013149, 0.62724781, 0.63436413,\n",
       "        0.64148045, 0.64859676, 0.65571308, 0.6628294 , 0.66994572,\n",
       "        0.67706203, 0.68417835, 0.69129467, 0.69841099, 0.70552731,\n",
       "        0.71264362]),\n",
       " <BarContainer object of 100 artists>)"
      ]
     },
     "execution_count": 105,
     "metadata": {},
     "output_type": "execute_result"
    },
    {
     "data": {
      "image/png": "[encoded data removed]",
      "text/plain": [
       "<Figure size 640x480 with 1 Axes>"
      ]
     },
     "metadata": {},
     "output_type": "display_data"
    }
   ],
   "source": [
    "x = torch.distributions.HalfNormal(.2).sample((1000, )).numpy()\n",
    "plt.hist(x, bins=100)"
   ]
  },
  {
   "cell_type": "code",
   "execution_count": null,
   "metadata": {},
   "outputs": [],
   "source": []
  }
 ],
 "metadata": {
  "kernelspec": {
   "display_name": "gfn-attractors",
   "language": "python",
   "name": "python3"
  },
  "language_info": {
   "codemirror_mode": {
    "name": "ipython",
    "version": 3
   },
   "file_extension": ".py",
   "mimetype": "text/x-python",
   "name": "python",
   "nbconvert_exporter": "python",
   "pygments_lexer": "ipython3",
   "version": "3.10.9"
  }
 },
 "nbformat": 4,
 "nbformat_minor": 2
}
